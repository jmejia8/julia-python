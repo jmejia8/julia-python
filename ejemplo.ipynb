{
 "cells": [
  {
   "cell_type": "code",
   "execution_count": 1,
   "metadata": {},
   "outputs": [
    {
     "data": {
      "text/plain": [
       "Plots.GRBackend()"
      ]
     },
     "execution_count": 1,
     "metadata": {},
     "output_type": "execute_result"
    }
   ],
   "source": [
    "using Plots\n",
    "using Metaheuristics\n",
    "gr()"
   ]
  },
  {
   "cell_type": "markdown",
   "metadata": {},
   "source": [
    "## Ejemplo 1\n",
    "\n",
    "Considere:\n",
    "$$\n",
    "f(x) = \\sum_{i=1}^n x_i^2\n",
    "$$\n",
    "\n",
    "¿Qué propiedades tiene?"
   ]
  },
  {
   "cell_type": "code",
   "execution_count": null,
   "metadata": {},
   "outputs": [],
   "source": [
    "f(x⃗) = sum(x⃗.^2)\n",
    "\n",
    "f(x, y) = f(Float64[x,y])\n",
    "\n",
    "X = Y = range(-1, 1, length=100)\n",
    "l = @layout [a b] \n",
    "plot(X, Y, f, lt=[:surface, :contourf], layout=l)"
   ]
  },
  {
   "cell_type": "markdown",
   "metadata": {},
   "source": [
    "## Ejemplo 2\n",
    "\n",
    "Considere:\n",
    "$$\n",
    "    f(x) = 10n + \\sum_{i=1}^n x_i^2 - 10\\cos(2\\pi x_i)\n",
    "$$\n",
    "¿Qué propiedades tiene?"
   ]
  },
  {
   "cell_type": "code",
   "execution_count": null,
   "metadata": {
    "scrolled": false
   },
   "outputs": [],
   "source": [
    "f(x⃗) = 10length(x⃗) + sum(x⃗.^2 - 10cos.(2π*x⃗))\n",
    "\n",
    "f(x, y) = f(Float64[x,y])\n",
    "\n",
    "X = Y = range(-5, 5, length=100)\n",
    "\n",
    "l = @layout [a b] \n",
    "plot(X, Y, f, lt=[:surface, :contourf], layout=l)"
   ]
  },
  {
   "cell_type": "markdown",
   "metadata": {},
   "source": [
    "## Minimizando Ejemplo 1\n",
    "\n",
    "Minimizar usando ED:\n",
    "$$\n",
    "f(x) = \\sum_{i=1}^n x_i^2,\n",
    "$$\n",
    "donde\n",
    "$$\n",
    "x\\in [-5, 5]^n\n",
    "$$"
   ]
  },
  {
   "cell_type": "code",
   "execution_count": null,
   "metadata": {},
   "outputs": [],
   "source": [
    "# función objetivo\n",
    "f(x⃗) = sum(x⃗.^2)\n",
    "\n",
    "# dimensión del problema\n",
    "D = 2\n",
    "\n",
    "# parámetros ED\n",
    "evolucion_diferencial = DE(\n",
    "    N = 30,  # tamaño población\n",
    "    F  = 1.0, # Tamaño de paso\n",
    "    CR = 0.9 # cruza\n",
    ")\n",
    "\n",
    "limites = Matrix([-5.0ones(D)  5ones(D)]')\n",
    "\n",
    "# optimizando con Evolución diferencial\n",
    "resultado = optimize(f, limites, evolucion_diferencial)\n",
    "display(resultado)\n",
    "x = resultado.best_sol.x\n",
    "println(\"x* =  \", x)\n",
    "\n",
    "# para graficar\n",
    "X = range(-5, 5, length=100)\n",
    "Y = range(-5, 5, length=100)\n",
    "contourf(X, Y, f)\n",
    "\n",
    "scatter!([x[1]], [x[2]], label=\"Aproximación\")\n",
    "scatter!([0.0], [0.0], label=\"Óptimo\")"
   ]
  },
  {
   "cell_type": "markdown",
   "metadata": {},
   "source": [
    "## Minimizando Ejemplo 2\n",
    "\n",
    "Minimizar usando DE:\n",
    "$$\n",
    "    f(x) = 10n + \\sum_{i=1}^n x_i^2 - 10\\cos(2\\pi x_i)\n",
    "$$\n",
    "donde\n",
    "$$\n",
    "x\\in [-5, 5]^n\n",
    "$$"
   ]
  },
  {
   "cell_type": "code",
   "execution_count": null,
   "metadata": {},
   "outputs": [],
   "source": [
    "f(x⃗) = 10length(x⃗) + sum(x⃗.^2 - 10cos.(2π*x⃗))\n",
    "\n",
    "# dimensión del problema\n",
    "D = 2\n",
    "\n",
    "# parámetros ED\n",
    "evolucion_diferencial = DE(\n",
    "    N = 30,  # tamaño población\n",
    "    F  = 1.0, # Tamaño de paso\n",
    "    CR = 0.9 # cruza\n",
    ")\n",
    "\n",
    "\n",
    "limites = Matrix([-5.0ones(D)  5ones(D)]')\n",
    "\n",
    "# optimizando con Evolución diferencial\n",
    "resultado = optimize(f, limites, evolucion_diferencial)\n",
    "display(resultado)\n",
    "x = resultado.best_sol.x\n",
    "println(\"x* = \", x)\n",
    "X = range(-5, 5, length=100)\n",
    "Y = range(-5, 5, length=100)\n",
    "contourf(X, Y, f)\n",
    "\n",
    "scatter!([x[1]], [x[2]], label=\"Aproximación\")\n",
    "scatter!([0.0], [0.0], label=\"Óptimo\")"
   ]
  },
  {
   "cell_type": "markdown",
   "metadata": {},
   "source": [
    "## PSO"
   ]
  },
  {
   "cell_type": "markdown",
   "metadata": {},
   "source": [
    "Optimice la función esfera usando PSO con sobre un espacio 10-dimensional"
   ]
  },
  {
   "cell_type": "code",
   "execution_count": null,
   "metadata": {},
   "outputs": [],
   "source": [
    "f(x⃗) = sum(x⃗.^2)\n",
    "\n",
    "# dimensión\n",
    "D = 10\n",
    "\n",
    "# parámetros PSO\n",
    "pso_parámetros = PSO(C1 = 2.0,\n",
    "                     C2 = 2.0,\n",
    "                      ω = 0.8)\n",
    "\n",
    "limites = Matrix([-5.0ones(D)  5ones(D)]')\n",
    "\n",
    "resultado = optimize(f, limites, pso_parámetros)\n",
    "display(resultado)\n",
    "x = resultado.best_sol.x\n",
    "println(\"x* = \", x)"
   ]
  },
  {
   "cell_type": "markdown",
   "metadata": {},
   "source": [
    "## Problema de Caja-negra\n",
    "\n",
    "El valor óptimo de esta función es 0, es decir, $f(x^*)=0$.\n",
    "\n",
    "Considere $D = 2$."
   ]
  },
  {
   "cell_type": "code",
   "execution_count": null,
   "metadata": {},
   "outputs": [],
   "source": [
    "using CEC17\n",
    "\n",
    "# función objetivo\n",
    "f(x) = cec17_test_func(x, 10) - 1000.0\n",
    "\n",
    "# dimensión\n",
    "D = 2\n",
    "\n",
    "\n",
    "limites = Matrix([-100.0ones(D)  100ones(D)]')\n",
    "\n",
    "\n",
    "# parámetros ED\n",
    "evolucion_diferencial = DE(\n",
    "    N = 30,  # tamaño población\n",
    "    F  = 1.0, # Tamaño de paso\n",
    "    CR = 0.9 # cruza\n",
    ")\n",
    "\n",
    "\n",
    "# parámetros PSO\n",
    "pso_parámetros = PSO(C1 = 2.0,\n",
    "                     C2 = 2.0,\n",
    "                      ω = 0.8)\n",
    "\n",
    "\n",
    "# resultados de evolución diferencial\n",
    "resultado_DE = optimize(f, limites, evolucion_diferencial)\n",
    "x_DE = resultado_DE.best_sol.x\n",
    "\n",
    "# resultados de PSO\n",
    "resultado_PSO = optimize(f, limites, pso_parámetros)\n",
    "x_PSO = resultado_DE.best_sol.x\n",
    "\n",
    "println(\"ED: \", x_DE)\n",
    "println(\"PSO: \", x_PSO)\n",
    "\n",
    "# gráfica\n",
    "X = range(-100, 100, length=100)\n",
    "Y = range(-100, 100, length=100)\n",
    "\n",
    "contourf(X, Y, f)\n",
    "scatter!([x_DE[1]], [x_DE[2]], label=\"ED\", color=:white)\n",
    "scatter!([x_PSO[1]], [x_PSO[2]], label=\"PSO\", color=:green)\n"
   ]
  },
  {
   "cell_type": "markdown",
   "metadata": {},
   "source": [
    "### ¿Qué pasa con D=10, 30, 100? "
   ]
  },
  {
   "cell_type": "code",
   "execution_count": null,
   "metadata": {},
   "outputs": [],
   "source": [
    "# función objetivo\n",
    "f(x) = cec17_test_func(x, 10) - 1000.0\n",
    "\n",
    "D = 10 # valores posibles: 10, 30, 50 ó 100.\n",
    "# No usar otros valores para D ó el mundo se romperá.\n",
    "\n",
    "# parámetros ED\n",
    "evolucion_diferencial = DE(\n",
    "    N = 30,  # tamaño población\n",
    "    F  = 1.0, # Tamaño de paso\n",
    "    CR = 0.9 # cruza\n",
    ")\n",
    "\n",
    "# optimizando con Evolución diferencial\n",
    "resultado = optimize(f, limites, evolucion_diferencial)\n",
    "display(resultado)\n",
    "x = resultado.best_sol.x\n",
    "\n",
    "X = range(-100, 100, length=100)\n",
    "Y = range(-100, 100, length=100)\n",
    "\n",
    "contourf(X, Y, f, title=\"Proyección\")\n",
    "scatter!([x[1]], [x[2]], label=\"Aproximación\", color=:white)"
   ]
  },
  {
   "cell_type": "code",
   "execution_count": null,
   "metadata": {},
   "outputs": [],
   "source": []
  }
 ],
 "metadata": {
  "@webio": {
   "lastCommId": "16f72b3c407a45fdb6d9a21e43549d0f",
   "lastKernelId": "67eb5012-14a0-4943-9986-8746022e6973"
  },
  "kernelspec": {
   "display_name": "Julia 1.1.1",
   "language": "julia",
   "name": "julia-1.1"
  },
  "language_info": {
   "file_extension": ".jl",
   "mimetype": "application/julia",
   "name": "julia",
   "version": "1.1.1"
  }
 },
 "nbformat": 4,
 "nbformat_minor": 2
}
