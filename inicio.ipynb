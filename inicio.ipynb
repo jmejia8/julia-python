{
 "cells": [
  {
   "cell_type": "code",
   "execution_count": 3,
   "metadata": {},
   "outputs": [
    {
     "data": {
      "text/plain": [
       "2×14 Array{Float64,2}:\n",
       "  0.0   0.0   0.0   0.0  -60.0  -60.0  …  0.0      0.0      0.0      0.0    \n",
       " 60.0  60.0  60.0  60.0   60.0   60.0     6.28319  6.28319  6.28319  6.28319"
      ]
     },
     "execution_count": 3,
     "metadata": {},
     "output_type": "execute_result"
    }
   ],
   "source": [
    "using Mechanisms, Metaheuristics, MechanismsPlots\n",
    "gr(legend=false, size=(500, 500))"
   ]
  },
  {
   "cell_type": "code",
   "execution_count": 4,
   "metadata": {},
   "outputs": [
    {
     "name": "stderr",
     "output_type": "stream",
     "text": [
      "┌ Info: Saved animation to \n",
      "│   fn = /home/jesus/develop/repos/julia-python/tmp_0.45101936894462735.gif\n",
      "└ @ Plots /home/jesus/.julia/packages/Plots/h3o4c/src/animation.jl:95\n"
     ]
    },
    {
     "data": {
      "text/html": [
       "<img src=\"tmp_0.45101936894462735.gif\" />"
      ],
      "text/plain": [
       "Plots.AnimatedGif(\"/home/jesus/develop/repos/julia-python/tmp_0.45101936894462735.gif\")"
      ]
     },
     "execution_count": 4,
     "metadata": {},
     "output_type": "execute_result"
    }
   ],
   "source": [
    "rcx = 7\n",
    "rcy = 7\n",
    "\n",
    "\n",
    "#############\n",
    "r1 = 14.3145\n",
    "r2 = 2.21117\n",
    "r3 = 14.3145\n",
    "r4 = 14.3145\n",
    "\n",
    "\n",
    "mechanism = [r1,r2,r3,r4,rcx,rcy]\n",
    "a = animate(mechanism, precision_points = PTS_ELLIPTIC)\n",
    "\n",
    "gif(a, \"tmp_$(rand()).gif\")"
   ]
  },
  {
   "cell_type": "code",
   "execution_count": 2,
   "metadata": {},
   "outputs": [
    {
     "name": "stdout",
     "output_type": "stream",
     "text": [
      "+=========== STATE ==========+\n",
      "| Iter.: 5102\n",
      "| f(x) = 0\n",
      "| solution.x = [51.8048, 13.7955, 29.7895, 44.9542, -1.85111, 11.7024, 4.49786, 7.18772, 18.4002, 2.19713, 2.53749, 2.88294, 3.22251, 3.56]\n",
      "| f calls: 500000\n",
      "| Total time: 6.4998 s\n",
      "+============================+\n"
     ]
    },
    {
     "name": "stderr",
     "output_type": "stream",
     "text": [
      "┌ Info: Saved animation to \n",
      "│   fn = /home/jesus/develop/notebooks/tmp_0.261561343346878.gif\n",
      "└ @ Plots /home/jesus/.julia/packages/Plots/Iuc9S/src/animation.jl:95\n"
     ]
    },
    {
     "data": {
      "text/html": [
       "<img src=\"tmp_0.261561343346878.gif\" />"
      ],
      "text/plain": [
       "Plots.AnimatedGif(\"/home/jesus/develop/notebooks/tmp_0.261561343346878.gif\")"
      ]
     },
     "execution_count": 2,
     "metadata": {},
     "output_type": "execute_result"
    }
   ],
   "source": [
    "options = Options(f_calls_limit=5e5)\n",
    "\n",
    "# r1,r2,r3,r4,rcx,rcy,θ0,x0,y0\n",
    "result = optimize(ff, bounds, ECA(options=options));\n",
    "display(result)\n",
    "a = animate(result.best_sol.x, precision_points = precision_points)\n",
    "\n",
    "gif(a, \"tmp_$(rand()).gif\")"
   ]
  },
  {
   "cell_type": "code",
   "execution_count": null,
   "metadata": {},
   "outputs": [],
   "source": []
  },
  {
   "cell_type": "code",
   "execution_count": null,
   "metadata": {},
   "outputs": [],
   "source": []
  }
 ],
 "metadata": {
  "@webio": {
   "lastCommId": null,
   "lastKernelId": null
  },
  "kernelspec": {
   "display_name": "Julia 1.1.1",
   "language": "julia",
   "name": "julia-1.1"
  },
  "language_info": {
   "file_extension": ".jl",
   "mimetype": "application/julia",
   "name": "julia",
   "version": "1.1.1"
  }
 },
 "nbformat": 4,
 "nbformat_minor": 2
}
