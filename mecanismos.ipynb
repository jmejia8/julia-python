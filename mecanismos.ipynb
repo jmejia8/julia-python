{
 "cells": [
  {
   "cell_type": "code",
   "execution_count": 175,
   "metadata": {},
   "outputs": [
    {
     "data": {
      "text/plain": [
       "Options(0.0, 0.0, 0.0, 0.0, 650000.0, 0.0, 0.0, 0, false, true, false, :minimize)"
      ]
     },
     "execution_count": 175,
     "metadata": {},
     "output_type": "execute_result"
    }
   ],
   "source": [
    "using Mechanisms, Metaheuristics, MechanismsPlots\n",
    "gr(legend=false, size=(500, 500))\n",
    "\n",
    "precision_points = PTS_VERTICAL_LINE\n",
    "D, f, g = getOptimizationProblem(precision_points)\n",
    "\n",
    "ff(x) = f(x) + 10sum(g(x))\n",
    "\n",
    "limites = Array([ 0 60;\n",
    "              0 60;\n",
    "              0 60;\n",
    "              0 60;\n",
    "              0 60;\n",
    "              0 60.0;\n",
    "              0 2π;\n",
    "            -20 20;\n",
    "            -20 20;\n",
    "            repeat([0 2π], size(precision_points, 1))\n",
    "            ]')\n",
    "\n",
    "opciones = Options(f_calls_limit=6.5e5)"
   ]
  },
  {
   "cell_type": "code",
   "execution_count": 176,
   "metadata": {},
   "outputs": [
    {
     "name": "stdout",
     "output_type": "stream",
     "text": [
      "+=========== STATE ==========+\n",
      "| Iter.: 4333\n",
      "| f(x) = 0.452763\n",
      "| solution.x = [56.3632, 13.3434, 21.8327, 47.9701, 19.789, 3.213, 0.392832, 17.8544, 12.5757, 4.75955, 5.50626, 5.9319, 0.0, 0.327134, 1.3925]\n",
      "| f calls: 650000\n",
      "| Total time: 3.6855 s\n",
      "+============================+\n"
     ]
    },
    {
     "name": "stderr",
     "output_type": "stream",
     "text": [
      "┌ Info: Saved animation to \n",
      "│   fn = /home/jesus/develop/repos/julia-python/tmp_0.34025330170203016.gif\n",
      "└ @ Plots /home/jesus/.julia/packages/Plots/h3o4c/src/animation.jl:95\n"
     ]
    },
    {
     "data": {
      "text/html": [
       "<img src=\"tmp_0.34025330170203016.gif\" />"
      ],
      "text/plain": [
       "Plots.AnimatedGif(\"/home/jesus/develop/repos/julia-python/tmp_0.34025330170203016.gif\")"
      ]
     },
     "execution_count": 176,
     "metadata": {},
     "output_type": "execute_result"
    }
   ],
   "source": [
    "evolucion_diferencial = DE(options=opciones)\n",
    "\n",
    "resultado = optimize(ff, limites, evolucion_diferencial)\n",
    "display(resultado)\n",
    "\n",
    "mecanismo = resultado.best_sol.x\n",
    "\n",
    "a = animate(mecanismo, precision_points = precision_points, title=\"Error: $(resultado.best_sol.f)\")\n",
    "\n",
    "gif(a, \"tmp_$(rand()).gif\")"
   ]
  },
  {
   "cell_type": "code",
   "execution_count": 177,
   "metadata": {},
   "outputs": [
    {
     "name": "stdout",
     "output_type": "stream",
     "text": [
      "+=========== STATE ==========+\n",
      "| Iter.: 4333\n",
      "| f(x) = 5.25092\n",
      "| solution.x = [57.4182, -33.6654, 35.7234, 56.5209, 72.6813, 34.3414, 0.263424, 1.80772, -35.8468, -0.0813398, 6.02298, 5.89077, 5.76607, 5.64454, 5.52284]\n",
      "| f calls: 650000\n",
      "| Total time: 5.2670 s\n",
      "+============================+\n"
     ]
    },
    {
     "name": "stderr",
     "output_type": "stream",
     "text": [
      "┌ Info: Saved animation to \n",
      "│   fn = /home/jesus/develop/repos/julia-python/tmp_0.14257582587716655.gif\n",
      "└ @ Plots /home/jesus/.julia/packages/Plots/h3o4c/src/animation.jl:95\n"
     ]
    },
    {
     "data": {
      "text/html": [
       "<img src=\"tmp_0.14257582587716655.gif\" />"
      ],
      "text/plain": [
       "Plots.AnimatedGif(\"/home/jesus/develop/repos/julia-python/tmp_0.14257582587716655.gif\")"
      ]
     },
     "execution_count": 177,
     "metadata": {},
     "output_type": "execute_result"
    }
   ],
   "source": [
    "# parámetros PSO\n",
    "pso_parámetros = PSO(options=opciones)\n",
    "\n",
    "resultado = optimize(ff, limites, pso_parámetros)\n",
    "display(resultado)\n",
    "\n",
    "mecanismo = resultado.best_sol.x\n",
    "\n",
    "a = animate(mecanismo, precision_points = precision_points, title=\"Error: $(resultado.best_sol.f)\")\n",
    "\n",
    "gif(a, \"tmp_$(rand()).gif\")"
   ]
  },
  {
   "cell_type": "code",
   "execution_count": null,
   "metadata": {},
   "outputs": [],
   "source": []
  },
  {
   "cell_type": "code",
   "execution_count": 178,
   "metadata": {},
   "outputs": [
    {
     "data": {
      "text/plain": [
       "2×19 Array{Float64,2}:\n",
       "  0.0   0.0   0.0   0.0  -10.0  -10.0  …  0.0      0.0      0.0      0.0    \n",
       " 60.0  30.0  30.0  30.0   10.0   10.0     6.28319  6.28319  6.28319  6.28319"
      ]
     },
     "execution_count": 178,
     "metadata": {},
     "output_type": "execute_result"
    }
   ],
   "source": [
    "θ = range(0, π, length=10)\n",
    "precision_points = [15cos.(θ) 15sin.(θ)]\n",
    "D, f, g = getOptimizationProblem(precision_points);\n",
    "\n",
    "ff(x) = f(x) + 10sum(g(x))\n",
    "\n",
    "limites = Array([ 0 60;\n",
    "              0 30;\n",
    "              0 30;\n",
    "              0 30;\n",
    "            -10 10;\n",
    "            -10 10.0;\n",
    "              0 2π;\n",
    "            -10 10;\n",
    "            -10 10;\n",
    "            repeat([0 2π], size(precision_points, 1))\n",
    "            ]')"
   ]
  },
  {
   "cell_type": "code",
   "execution_count": 179,
   "metadata": {},
   "outputs": [
    {
     "name": "stdout",
     "output_type": "stream",
     "text": [
      "+=========== STATE ==========+\n",
      "| Iter.: 3421\n",
      "| f(x) = 15.1647\n",
      "| solution.x = [27.5981, 14.217, 25.1386, 25.2702, -1.42542, 0.752106, 0.0271582, 1.1855, 0.547804, 0.0196579, 0.482292, 0.606231, 0.873766, 1.4196, 1.69521, 2.06174, 2.41146, 2.80807, 3.07146]\n",
      "| f calls: 650000\n",
      "| Total time: 4.9592 s\n",
      "+============================+\n"
     ]
    },
    {
     "name": "stderr",
     "output_type": "stream",
     "text": [
      "┌ Info: Saved animation to \n",
      "│   fn = /home/jesus/develop/repos/julia-python/tmp_0.4612305922380644.gif\n",
      "└ @ Plots /home/jesus/.julia/packages/Plots/h3o4c/src/animation.jl:95\n"
     ]
    },
    {
     "data": {
      "text/html": [
       "<img src=\"tmp_0.4612305922380644.gif\" />"
      ],
      "text/plain": [
       "Plots.AnimatedGif(\"/home/jesus/develop/repos/julia-python/tmp_0.4612305922380644.gif\")"
      ]
     },
     "execution_count": 179,
     "metadata": {},
     "output_type": "execute_result"
    }
   ],
   "source": [
    "evolucion_diferencial = DE(options=opciones)\n",
    "\n",
    "resultado = optimize(ff, limites, evolucion_diferencial)\n",
    "display(resultado)\n",
    "\n",
    "mecanismo = resultado.best_sol.x\n",
    "\n",
    "a = animate(mecanismo, precision_points = precision_points, title=\"Error: $(resultado.best_sol.f)\")\n",
    "\n",
    "gif(a, \"tmp_$(rand()).gif\")"
   ]
  },
  {
   "cell_type": "code",
   "execution_count": null,
   "metadata": {},
   "outputs": [],
   "source": []
  },
  {
   "cell_type": "code",
   "execution_count": null,
   "metadata": {},
   "outputs": [],
   "source": []
  },
  {
   "cell_type": "code",
   "execution_count": null,
   "metadata": {},
   "outputs": [],
   "source": []
  },
  {
   "cell_type": "code",
   "execution_count": null,
   "metadata": {},
   "outputs": [],
   "source": []
  }
 ],
 "metadata": {
  "kernelspec": {
   "display_name": "Julia 1.1.1",
   "language": "julia",
   "name": "julia-1.1"
  },
  "language_info": {
   "file_extension": ".jl",
   "mimetype": "application/julia",
   "name": "julia",
   "version": "1.1.1"
  }
 },
 "nbformat": 4,
 "nbformat_minor": 2
}
